{
  "cells": [
    {
      "cell_type": "markdown",
      "metadata": {
        "id": "view-in-github",
        "colab_type": "text"
      },
      "source": [
        "<a href=\"https://colab.research.google.com/github/juliapavandoebber/Projeto_Imersao/blob/main/Alerta_para_autoridades_de_pessoas_em_situa%C3%A7%C3%A3o_de_risco_nas_enchentes_do_Rio_Grande_do_Sul.ipynb\" target=\"_parent\"><img src=\"https://colab.research.google.com/assets/colab-badge.svg\" alt=\"Open In Colab\"/></a>"
      ]
    },
    {
      "cell_type": "code",
      "source": [
        "import google.generativeai as genai\n",
        "\n",
        "from google.colab import userdata\n",
        "api_key = userdata.get('SECRET_KEY')\n",
        "genai.configure(api_key=api_key)\n",
        "\n",
        "generation_config = {\n",
        "    \"candidate_count\": 1,\n",
        "    \"temperature\": 0.5,\n",
        "}\n",
        "\n",
        "import requests\n",
        "import geocoder\n",
        "\n",
        "# Definir o comando que pede ajuda às autoridades (como polícia ou bombeiros)\n",
        "alert_command = \"!alerta\"\n",
        "\n",
        "# Enviar alerta:\n",
        "def send_emergency_alert():\n",
        "    # Conseguir a localização do usuário, e enviá-la para quem foi contatado\n",
        "    try:\n",
        "        g = geocoder.ip('me')\n",
        "        latitude = g.latitude\n",
        "        longitude = g.longitude\n",
        "    except:\n",
        "        print(\"Não foi possível acessar a localização. Por favor, ligue os serviços de localização.\")\n",
        "        return\n",
        "\n",
        "    # Preparar a mensagem de alerta\n",
        "    alert_message = f\"**SOS! Emergência!**\\n\\nLocalização: https://www.google.com/maps/search/?api=1&query={latitude},{longitude}\\n\\n**Favor enviar ajuda o mais rápido possível!**\"\n",
        "\n",
        "    # Enviar o alerta para os serviços de emergência\n",
        "    # Substituir 'EMERGENCY_SERVICES_URL' com o URL de envio de alertas\n",
        "    requests.post('EMERGENCY_SERVICES_URL', data={'alert': alert_message})\n",
        "\n",
        "    # Notificar o usuário que o alerta foi enviado\n",
        "    print(\"Alerta enviado com sucesso!\")\n",
        "\n",
        "# Loop principal\n",
        "while True:\n",
        "    # Conseguir input do usuário\n",
        "    user_input = input()\n",
        "\n",
        "    # Verificar se o usuário acionou o comando de alerta\n",
        "    if user_input.lower() == alert_command:\n",
        "        send_emergency_alert()"
      ],
      "outputs": [],
      "execution_count": null,
      "metadata": {
        "id": "5zn-x5FQWq-M"
      }
    }
  ],
  "metadata": {
    "colab": {
      "provenance": [],
      "include_colab_link": true
    },
    "kernelspec": {
      "display_name": "Python 3",
      "name": "python3"
    }
  },
  "nbformat": 4,
  "nbformat_minor": 0
}